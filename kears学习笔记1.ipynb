{
 "cells": [
  {
   "cell_type": "markdown",
   "metadata": {},
   "source": [
    "# keras入门"
   ]
  },
  {
   "cell_type": "raw",
   "metadata": {},
   "source": [
    "#在Keras中设定了两类深度学习模型：一类是序列模型（Sequential类）；一类是通用模型（Model类），其差异在于不同的拓扑结构 "
   ]
  },
  {
   "cell_type": "raw",
   "metadata": {},
   "source": [
    "#序列模型"
   ]
  },
  {
   "cell_type": "raw",
   "metadata": {},
   "source": [
    "序列模型各层之间是依次顺序的线性关系，在第k层和第k+1层之间可以加上各种元素来构造神经网络。\n",
    "这些元素可以通过一个列表来指定，然后作为参数传递给序列模型来生成相应的模型，示例代码如下所示：\n",
    "(与书中不同之处在于keras导入时为小写)"
   ]
  },
  {
   "cell_type": "code",
   "execution_count": 2,
   "metadata": {
    "scrolled": true
   },
   "outputs": [
    {
     "name": "stderr",
     "output_type": "stream",
     "text": [
      "Using TensorFlow backend.\n"
     ]
    }
   ],
   "source": [
    "from keras.models import Sequential\n",
    "from keras.layers import Dense,Activation\n",
    "layers = [Dense(32,input_shape=(784,)),\n",
    "         Activation('relu'),\n",
    "         Dense(10),\n",
    "         Activation('softmax')]\n",
    "model = Sequential(layers)"
   ]
  },
  {
   "cell_type": "raw",
   "metadata": {},
   "source": [
    "除这种直接在一个列表中指定所有元素外，也可以如下所示逐层添加"
   ]
  },
  {
   "cell_type": "code",
   "execution_count": 6,
   "metadata": {},
   "outputs": [],
   "source": [
    "from keras.models import Sequential\n",
    "from keras.layers import Dense,Activation\n",
    "\n",
    "model = Sequential()\n",
    "model.add(Dense(32,input_shape=(784,)))\n",
    "model.add(Activation('relu'))\n",
    "model.add(Dense(10))\n",
    "model.add(Activation('softmax'))"
   ]
  },
  {
   "cell_type": "raw",
   "metadata": {},
   "source": [
    "#通用模型\n",
    "\n"
   ]
  }
 ],
 "metadata": {
  "kernelspec": {
   "display_name": "Python 3",
   "language": "python",
   "name": "python3"
  },
  "language_info": {
   "codemirror_mode": {
    "name": "ipython",
    "version": 3
   },
   "file_extension": ".py",
   "mimetype": "text/x-python",
   "name": "python",
   "nbconvert_exporter": "python",
   "pygments_lexer": "ipython3",
   "version": "3.6.7"
  }
 },
 "nbformat": 4,
 "nbformat_minor": 2
}
